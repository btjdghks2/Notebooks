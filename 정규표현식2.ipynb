{
 "cells": [
  {
   "cell_type": "code",
   "execution_count": 1,
   "id": "3600dcf9",
   "metadata": {},
   "outputs": [],
   "source": [
    "# 파이썬 정규 표현식\n",
    "\n",
    "# module import\n",
    "import re\n",
    "\n"
   ]
  },
  {
   "cell_type": "code",
   "execution_count": 2,
   "id": "3d3b7594",
   "metadata": {},
   "outputs": [
    {
     "name": "stdout",
     "output_type": "stream",
     "text": [
      "None\n",
      "<re.Match object; span=(0, 4), match='Life'>\n",
      "<re.Match object; span=(0, 1), match='L'>\n",
      "<built-in method group of re.Match object at 0x000001F8C41546C0>\n"
     ]
    }
   ],
   "source": [
    "# 사용방법\n",
    "# 1. 패턴 컴파일 후 사용\n",
    "# 2. 패턴 객체가 가진 메서드 이용 작업 수행\n",
    "source = \"Life os too short, you need Python\"\n",
    "\n",
    "# 방법 1. 패턴 컴파일 후에 매칭\n",
    "p = re.compile(r\"P[a-z]+\") # p로 시작, 소문자 1개 이상인 패턴 매칭\n",
    "print(p.match(source))\n",
    "\n",
    "p= re.compile(r\"L[a-z]+\") # L로 시작, 소문자 1개 이상인 패턴 매칭\n",
    "print(p.match(source))\n",
    "\n",
    "# 방법2. 축약형 : 컴파일 없이 1회성 즉시 매칭\n",
    "print(re.match(r\"[A-Za_z]+\", source)) # 대문자 or 소문자 1문자 이상 패턴 매칭\n",
    "               \n",
    "# 매칭된 내용을 추출 -> group()메서드\n",
    "print(re.match(r\"[A-Za-z]+\", source).group)"
   ]
  },
  {
   "cell_type": "code",
   "execution_count": 3,
   "id": "103ad8a5",
   "metadata": {},
   "outputs": [
    {
     "name": "stdout",
     "output_type": "stream",
     "text": [
      "<re.Match object; span=(0, 5), match='Hello'>\n",
      "None\n",
      "<re.Match object; span=(7, 13), match='Python'>\n",
      "None\n",
      "<re.Match object; span=(7, 13), match='Python'>\n"
     ]
    }
   ],
   "source": [
    "# 특정 문자열이 포함되어 있는지 판별\n",
    "source = \"Hello, Python\"\n",
    "print(re.match(\"Hello\",source))\n",
    "print(re.match(\"Python\", source))\n",
    "# match 매서드 처음부터 일치 해야 매칭\n",
    "print(re.search(\"Python\",source))\n",
    "#search 메서드 : 전체를 대상으로 매칭\n",
    "print(re.search(\"python\", source))\n",
    "# 기본적으로 대소문자를 구분\n",
    "# 대소문자 구분 없이 매칭 시도 -> re.IGNORECASE or re.i 옵션사용\n",
    "print(re.search(\"python\", source,re.IGNORECASE))"
   ]
  },
  {
   "cell_type": "code",
   "execution_count": 4,
   "id": "7f7a0dc7",
   "metadata": {},
   "outputs": [
    {
     "name": "stdout",
     "output_type": "stream",
     "text": [
      "['Paint', 'C', 'JavaSoript', '123', '456', 'Perl', 'Jaca', 'Puthon', 'P123', 'Ruby']\n"
     ]
    },
    {
     "ename": "TypeError",
     "evalue": "'builtin_function_or_method' object is not iterable",
     "output_type": "error",
     "traceback": [
      "\u001b[1;31m---------------------------------------------------------------------------\u001b[0m",
      "\u001b[1;31mTypeError\u001b[0m                                 Traceback (most recent call last)",
      "\u001b[1;32m<ipython-input-4-365bad84ac7b>\u001b[0m in \u001b[0;36m<module>\u001b[1;34m\u001b[0m\n\u001b[0;32m      9\u001b[0m \u001b[0mitem\u001b[0m \u001b[1;33m=\u001b[0m \u001b[0mre\u001b[0m\u001b[1;33m.\u001b[0m\u001b[0mfinditer\u001b[0m\u001b[1;33m(\u001b[0m\u001b[1;34mr\"\\b\\w+\"\u001b[0m\u001b[1;33m,\u001b[0m \u001b[0msource\u001b[0m\u001b[1;33m,\u001b[0m \u001b[0mre\u001b[0m\u001b[1;33m.\u001b[0m\u001b[0mIGNORECASE\u001b[0m\u001b[1;33m)\u001b[0m\u001b[1;33m\u001b[0m\u001b[1;33m\u001b[0m\u001b[0m\n\u001b[0;32m     10\u001b[0m \u001b[1;33m\u001b[0m\u001b[0m\n\u001b[1;32m---> 11\u001b[1;33m \u001b[1;32mfor\u001b[0m \u001b[0mitem\u001b[0m \u001b[1;32min\u001b[0m \u001b[0miter\u001b[0m\u001b[1;33m:\u001b[0m\u001b[1;33m\u001b[0m\u001b[1;33m\u001b[0m\u001b[0m\n\u001b[0m\u001b[0;32m     12\u001b[0m     \u001b[0mprint\u001b[0m\u001b[1;33m(\u001b[0m\u001b[0mitem\u001b[0m\u001b[1;33m,\u001b[0m\u001b[0mitem\u001b[0m\u001b[1;33m.\u001b[0m\u001b[0mgroup\u001b[0m\u001b[1;33m(\u001b[0m\u001b[1;33m)\u001b[0m\u001b[1;33m)\u001b[0m\u001b[1;33m\u001b[0m\u001b[1;33m\u001b[0m\u001b[0m\n",
      "\u001b[1;31mTypeError\u001b[0m: 'builtin_function_or_method' object is not iterable"
     ]
    }
   ],
   "source": [
    "# findall, finditer\n",
    "source = \"Paint C JavaSoript 123 456 Perl Jaca Puthon P123 Ruby\"\n",
    "# p로 시작되는 문자열을 검색 출력\n",
    "# findall : 매칭된 모든 문자열을 list로 반환\n",
    "#item = re.findall(r\"\\Vp[A-Za-z0-9]+\" , source, re.IGNORECASE) # \\B는 경계\n",
    "item = re.findall(r\"\\b\\w+\", source, re.IGNORECASE) # Ww == [A_Za-z0-9]\n",
    "print(item)\n",
    "# finditer : 매칭 영역을 iterator 로 반환\n",
    "item = re.finditer(r\"\\b\\w+\", source, re.IGNORECASE)\n",
    "\n",
    "for item in iter:\n",
    "    print(item,item.group())"
   ]
  },
  {
   "cell_type": "code",
   "execution_count": null,
   "id": "ba6d4cbf",
   "metadata": {},
   "outputs": [],
   "source": [
    "# 예제 \n",
    "# 전화번호\n",
    "source = \"\"\"\n",
    "010-1234-5678 홍길동\n",
    "032-9876-5432 고길동\n",
    "02-4567-8901 장길산\n",
    "\"\"\"\n",
    "\n",
    "pattern = re.compile(r\"\\d{2,3}-\\d{3,4}-\\d{4}\")\n",
    "\n",
    "iter = pattern.finditer(source)\n",
    "for tel in iter:\n",
    "    print(\"tel:\", tel, tel.group())\n",
    "    \n",
    "# 패턴 작성시(?<이름>) 형식을 이용하면 매칭결과에 이름을 부여할 수 있다.\n",
    "# 이름이 부여된 매칭 결과는 groupdict() 메서드로 확인\n",
    "\n",
    "pattern = re.compile(r\"(?P<area>\\d{2,3})-(?P<exchange>\\d{3,4})-(?P<number>\\d{4})\")\n",
    "iter = pattern.finditer(source)\n",
    "for tal in iter:\n",
    "    print(\"tel:\", \n",
    "          tel.groupdict())"
   ]
  },
  {
   "cell_type": "code",
   "execution_count": null,
   "id": "2ad8dd57",
   "metadata": {},
   "outputs": [],
   "source": [
    "# 예제 2\n",
    "# 이메일 추출하기\n",
    "source = \"\"\"\n",
    "홍길동 hong@hwalibin.org\n",
    "장길산 jang@thieves.net\n",
    "고길동 gildong@dooly.net\n",
    "\"\"\"\n",
    "\n",
    "pattern = re.compile(r\"Ww+[WwW,]@Ww+W.[a-z]+\")\n",
    "iter = pattern.finditer(source)\n",
    "\n",
    "for email in iter:\n",
    "    print(email.groups())"
   ]
  },
  {
   "cell_type": "code",
   "execution_count": null,
   "id": "052419f5",
   "metadata": {},
   "outputs": [],
   "source": [
    "# 한국어 패턴 예쩨\n",
    "source = \"English 대한민국 Japan\"\n",
    "p = re.compile(r\"[t-힣]+\") # Unicode의 범위\n",
    "\n",
    "print(p.findall(source))"
   ]
  },
  {
   "cell_type": "code",
   "execution_count": 5,
   "id": "a52da986",
   "metadata": {},
   "outputs": [
    {
     "name": "stdout",
     "output_type": "stream",
     "text": [
      "Pattern Spilt: ['사과', '오렌지', '', '바나나', '', '토마토', '수박']\n",
      "Pattern SUb: 사과-오렌지--바나나--토마토-수박\n"
     ]
    }
   ],
   "source": [
    "# spilt : 단순 문자열이 아닌 패턴을 이용해서 문자열을 분할\n",
    "source = \"사과 오렌지: 바나나, 토마토|수박\"\n",
    "pattern=  r\"[ :,|]\"\n",
    "print(\"Pattern Spilt:\", re.split(pattern, source))\n",
    "\n",
    "# sub : 단순 문자열이 아닌 패턴 매칭을 이용한 변경\n",
    "print(\"Pattern SUb:\", re.sub(pattern,\"-\", source)) # 패턴 매칭 후 -> - 변경"
   ]
  }
 ],
 "metadata": {
  "kernelspec": {
   "display_name": "Python 3",
   "language": "python",
   "name": "python3"
  },
  "language_info": {
   "codemirror_mode": {
    "name": "ipython",
    "version": 3
   },
   "file_extension": ".py",
   "mimetype": "text/x-python",
   "name": "python",
   "nbconvert_exporter": "python",
   "pygments_lexer": "ipython3",
   "version": "3.9.5"
  }
 },
 "nbformat": 4,
 "nbformat_minor": 5
}
