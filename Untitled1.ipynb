{
 "cells": [
  {
   "cell_type": "code",
   "execution_count": 2,
   "id": "9002e95f",
   "metadata": {},
   "outputs": [
    {
     "ename": "SyntaxError",
     "evalue": "(unicode error) 'unicodeescape' codec can't decode bytes in position 2-3: truncated \\UXXXXXXXX escape (<ipython-input-2-d6ac3f1197e6>, line 9)",
     "output_type": "error",
     "traceback": [
      "\u001b[1;36m  File \u001b[1;32m\"<ipython-input-2-d6ac3f1197e6>\"\u001b[1;36m, line \u001b[1;32m9\u001b[0m\n\u001b[1;33m    driver = webdriver.Chrome(\"C:\\Users\\user\\Desktop\\chromedriver.exe\")\u001b[0m\n\u001b[1;37m                                                                      ^\u001b[0m\n\u001b[1;31mSyntaxError\u001b[0m\u001b[1;31m:\u001b[0m (unicode error) 'unicodeescape' codec can't decode bytes in position 2-3: truncated \\UXXXXXXXX escape\n"
     ]
    }
   ],
   "source": [
    "# selenium : 웹 페이지가 실제 브라우저에서 오류없이 잘 작동하는가 테스트 하는 도구\n",
    "# 1. 모듈 설치 : pip install selenium\n",
    "# 2. 브라우저 드라이버\n",
    "# 브라우저 버전\n",
    "\n",
    "from selenium import webdriver\n",
    "\n",
    "# 드라이버 로드\n",
    "driver = webdriver.Chrome(\"C:\\Users\\user\\Desktop\\chromedriver.exe\")\n",
    "# 접속\n",
    "driver.get(\"https://www.naver.com/\")\n",
    "#페이지 로드 전에 약간의 시간 -> 잠시 대기\n",
    "driver.implicitly_wait(3)\n",
    "\n",
    "# # account > a 클릭\n",
    "bin_login = driver.find_element_by_css_selector(\"#account > a\") # 요소를 찾고\n",
    "bin_login.click() # 클릭 이벤트 발생\n",
    "\n",
    "# 아이디 입력창 xpath: //*[@id=\"id\"]\n",
    "input_id = driver.find_element_by_xpath(//*[@id=\"id\"]) # 아이디 입력창 참고\n",
    "# 아이디 입력 이벤트 발생\n",
    "input_id.send_key(\"litmuscube\")\n",
    "# 비밀번호 입력창 xpath: //*[@id=\"pw\"]\n",
    "input_id = driver.find_element_by_xpath(//*[@id=\"pw\"]) \n",
    "# 비밀번호 입력 이벤트 발생\n",
    "input_password.send_keys(\"password\")\n",
    "# 로그인 버튼 xpath: //*[@id=\"log.login\"]\n",
    "bin_submit = driver.find_element_by_xpath(\"//*[@id=\"log.login\"]\")\n",
    "# bin_submit.click()"
   ]
  },
  {
   "cell_type": "code",
   "execution_count": null,
   "id": "3134f97d",
   "metadata": {},
   "outputs": [],
   "source": [
    "\n"
   ]
  }
 ],
 "metadata": {
  "kernelspec": {
   "display_name": "Python 3",
   "language": "python",
   "name": "python3"
  },
  "language_info": {
   "codemirror_mode": {
    "name": "ipython",
    "version": 3
   },
   "file_extension": ".py",
   "mimetype": "text/x-python",
   "name": "python",
   "nbconvert_exporter": "python",
   "pygments_lexer": "ipython3",
   "version": "3.9.5"
  }
 },
 "nbformat": 4,
 "nbformat_minor": 5
}
