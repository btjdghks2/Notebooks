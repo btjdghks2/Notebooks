{
 "cells": [
  {
   "cell_type": "code",
   "execution_count": null,
   "id": "4e66b3fa",
   "metadata": {},
   "outputs": [],
   "source": [
    "# pip install bs4\n",
    "#./data/sample.html 불러와서 출력\n",
    "with open(\"./data/sample.html\") as f:\n",
    "    html_str = f.read()\n",
    "    \n",
    "print(html_str)\n",
    "print(type(html_str))"
   ]
  },
  {
   "cell_type": "code",
   "execution_count": null,
   "id": "f2a22b33",
   "metadata": {},
   "outputs": [],
   "source": [
    "# Soup 객체로 변환\n",
    "from bs4 import BeautifulSoup\n",
    "\n",
    "soup = Beautifulsoup(html_str) # texㅅ -> 객체화\n",
    "print(type(soup))\n",
    "\n",
    "title_fag = soup.title\n",
    "\n",
    "print(\"문서의 제목태그:\", title_fag. type(title_fag))\n",
    "# 태그 내의 콘텐츠 추출 : text 속성\n",
    "print(\"태그의 이름:\", title_tag.name) # 태그의 이름\n",
    "print(\"콘텐츠:\", title_tag.text) # 태그의 내용\n",
    "\n",
    "<class 'bs4.BeautifulSoup'>\n",
    "문서의 제목태그 : <title>Sample HTML Page</title><class 'bs4.element.Tag'>"
   ]
  },
  {
   "cell_type": "code",
   "execution_count": null,
   "id": "80d8725d",
   "metadata": {},
   "outputs": [],
   "source": [
    "# 최상위 노드 html을 확인\n",
    "html_fag = soup.html\n",
    "# 자식들의 확인\n",
    "children - html_tag\n",
    "\n",
    "# 자식 순회\n",
    "for child in children:\n",
    "    # 중요한 것은 Tag\n",
    "    # NavigableString은 Tree 구조를 구축하기 위한 특수한 구분 기호\n",
    "    # print(tyoe(child))\n",
    "    if isinstance(child, Tag): # tag면\n",
    "        print(child.name, type(child))\n",
    "\n",
    "print(soup,body,descendants) # body의 후손\n",
    "for node in soup.body.descendants:\n",
    "    if isinstance(nade, tag):\n",
    "        print(\"bodt has {} tag\", format(node.name))\n",
    "        \n",
    "# 부모 노드의 확인 : parent\n",
    "print(\"body의 부모가 html 인가?\", soup,.body.parent == soup.html)"
   ]
  },
  {
   "cell_type": "code",
   "execution_count": null,
   "id": "fed2f0fe",
   "metadata": {},
   "outputs": [],
   "source": [
    "# find를 이용한 노드 탐색\n",
    "# 문서 내에서 div 노드 탐색  # find는 처음 검색된 노드 1개만 검색\n",
    "divs = soup.html.find(\"div\") # \n",
    "print(divs)\n",
    "print(\"{}개의 div가 있음\", format(len(divs)))"
   ]
  },
  {
   "cell_type": "code",
   "execution_count": null,
   "id": "6430a14c",
   "metadata": {},
   "outputs": [],
   "source": [
    "# 문서 내에 id 속성이 header 인 노드 탐색\n",
    "header = soup.body.find(\"div\", {\"id\":\" header\"})\n",
    "print(header)\n",
    "# 문서 내에 class 속성이 list인 ui 태그 탐색\n",
    "list_ul = soup.body.find(\"ul\",{\"class\":\"list\"})\n",
    "#print(list_ul)\n",
    "print(\"ul.list\") # class가 list ul\n",
    "for li in list_ul.children:\n",
    "    if isinstance(li. Tag)\n",
    "    print(\"list item:\", li.text)\n",
    "\n"
   ]
  },
  {
   "cell_type": "code",
   "execution_count": null,
   "id": "8274d876",
   "metadata": {},
   "outputs": [],
   "source": [
    "# SELECTOR : 문서 내에 태그를 규칙 기반으로 손쉽게 선택할 수 있다\n",
    "# ID 셀렉터 : # 아이디\n",
    "# class 셀렉터 : 클래스\n",
    "# 자식 셀렉터 : > \n",
    "# 자손 셀렉터 : 공백\n",
    "\n",
    "#class가 list인 ul 의 자식 li 들\n",
    "lis = soup.body.select(\"ul.list > li\")\n",
    "print(lis)"
   ]
  },
  {
   "cell_type": "code",
   "execution_count": null,
   "id": "a1f55742",
   "metadata": {},
   "outputs": [],
   "source": []
  }
 ],
 "metadata": {
  "kernelspec": {
   "display_name": "Python 3",
   "language": "python",
   "name": "python3"
  },
  "language_info": {
   "codemirror_mode": {
    "name": "ipython",
    "version": 3
   },
   "file_extension": ".py",
   "mimetype": "text/x-python",
   "name": "python",
   "nbconvert_exporter": "python",
   "pygments_lexer": "ipython3",
   "version": "3.9.5"
  }
 },
 "nbformat": 4,
 "nbformat_minor": 5
}
